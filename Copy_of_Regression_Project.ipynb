{
  "cells": [
    {
      "cell_type": "markdown",
      "metadata": {
        "id": "view-in-github",
        "colab_type": "text"
      },
      "source": [
        "<a href=\"https://colab.research.google.com/github/Saipradeep456/FMML_PROJECTS_AND_LABS/blob/main/Copy_of_Regression_Project.ipynb\" target=\"_parent\"><img src=\"https://colab.research.google.com/assets/colab-badge.svg\" alt=\"Open In Colab\"/></a>"
      ]
    },
    {
      "cell_type": "markdown",
      "metadata": {
        "id": "WliM6KDVWsIR"
      },
      "source": [
        "# Module 6 Project: Regression analysis on a COVID-dataset\n"
      ]
    },
    {
      "cell_type": "markdown",
      "metadata": {
        "id": "ulRLGKVeWsIV"
      },
      "source": [
        "`Module Coordinator: Nikunj Nawal`"
      ]
    },
    {
      "cell_type": "markdown",
      "metadata": {
        "id": "3sOSbkXOWsIW"
      },
      "source": [
        "In this project, we will use the concepts of regression and regularization we have learnt to predict early Covid-19 cases. We shall use linear regression, polynomial regression and ridge regression to obtain a reasonably good estimate of the future cases. Try experimenting with hyperparameters to obtain better results."
      ]
    },
    {
      "cell_type": "markdown",
      "metadata": {
        "id": "3Tbh4Yy6WsIW"
      },
      "source": [
        "## Data Analysis"
      ]
    },
    {
      "cell_type": "markdown",
      "metadata": {
        "id": "Q7l6rE-TWsIW"
      },
      "source": [
        "### 1. **Load the data** into a pandas dataframe."
      ]
    },
    {
      "cell_type": "code",
      "execution_count": 1,
      "metadata": {
        "id": "GLnDD-vyWsIX"
      },
      "outputs": [],
      "source": [
        "# Imports\n",
        "import pandas as pd\n",
        "import numpy  as np\n",
        "import scipy.integrate\n",
        "\n",
        "from matplotlib import pyplot as plt\n",
        "plt.style.use('ggplot')\n",
        "from matplotlib.pylab import rcParams\n",
        "rcParams['figure.figsize'] = 10, 8\n",
        "\n",
        "import copy\n",
        "from   sklearn.metrics       import mean_squared_error, mean_absolute_error\n",
        "from   sklearn.linear_model  import LinearRegression, BayesianRidge\n",
        "from   sklearn.tree          import DecisionTreeRegressor\n",
        "from   sklearn.preprocessing import PolynomialFeatures"
      ]
    },
    {
      "cell_type": "code",
      "execution_count": 2,
      "metadata": {
        "id": "zLMSF3wuWsIY",
        "outputId": "9d5fd0f2-ff6f-4edc-8975-e967ed2563a9",
        "colab": {
          "base_uri": "https://localhost:8080/"
        }
      },
      "outputs": [
        {
          "output_type": "stream",
          "name": "stdout",
          "text": [
            "         SNo ObservationDate Province/State  Country/Region  \\\n",
            "0          1      01/22/2020          Anhui  Mainland China   \n",
            "1          2      01/22/2020        Beijing  Mainland China   \n",
            "2          3      01/22/2020      Chongqing  Mainland China   \n",
            "3          4      01/22/2020         Fujian  Mainland China   \n",
            "4          5      01/22/2020          Gansu  Mainland China   \n",
            "...      ...             ...            ...             ...   \n",
            "10666  10667      03/31/2020        Wyoming              US   \n",
            "10667  10668      03/31/2020       Xinjiang  Mainland China   \n",
            "10668  10669      03/31/2020          Yukon          Canada   \n",
            "10669  10670      03/31/2020         Yunnan  Mainland China   \n",
            "10670  10671      03/31/2020       Zhejiang  Mainland China   \n",
            "\n",
            "               Last Update  Confirmed  Deaths  Recovered  \n",
            "0          1/22/2020 17:00        1.0     0.0        0.0  \n",
            "1          1/22/2020 17:00       14.0     0.0        0.0  \n",
            "2          1/22/2020 17:00        6.0     0.0        0.0  \n",
            "3          1/22/2020 17:00        1.0     0.0        0.0  \n",
            "4          1/22/2020 17:00        0.0     0.0        0.0  \n",
            "...                    ...        ...     ...        ...  \n",
            "10666  2020-03-31 23:49:27      109.0     0.0        0.0  \n",
            "10667  2020-03-31 23:49:27       76.0     3.0       73.0  \n",
            "10668  2020-03-31 23:49:27        5.0     0.0        0.0  \n",
            "10669  2020-03-31 23:49:27      182.0     2.0      172.0  \n",
            "10670  2020-03-31 23:49:27     1257.0     1.0     1226.0  \n",
            "\n",
            "[10671 rows x 8 columns]\n"
          ]
        }
      ],
      "source": [
        "path = \"https://raw.githubusercontent.com/PranavTadimeti/Regression_Project/main/covid_19_data.csv\"\n",
        "df_orig = pd.read_csv(path)\n",
        "print(df_orig)"
      ]
    },
    {
      "cell_type": "markdown",
      "metadata": {
        "id": "9DLCS3sqWsIa"
      },
      "source": [
        "### 2. Create a new dataframe which counts the cumulative total number of cases, the cumulative total number of deaths, and also  cumulative total number of recoveries for each date."
      ]
    },
    {
      "cell_type": "code",
      "execution_count": 3,
      "metadata": {
        "id": "ZixfTp3tWsIa"
      },
      "outputs": [],
      "source": [
        "df = copy.deepcopy(df_orig)\n",
        "df.drop('Last Update',inplace=True,axis=1)\n",
        "date_lst  = df.ObservationDate.unique()\n",
        "date_dict = {}\n",
        "\n",
        "for i in range(len(date_lst)):\n",
        "    df_temp = df.loc[df['ObservationDate'] == date_lst[i]]\n",
        "    date_dict[date_lst[i]] = df_temp\n"
      ]
    },
    {
      "cell_type": "code",
      "execution_count": 4,
      "metadata": {
        "id": "HzPpZMmxWsIb"
      },
      "outputs": [],
      "source": [
        "date_tot_tup_dict = {};\n",
        "for date, df in date_dict.items():\n",
        "    tup_temp = (df['Confirmed'].sum(), df['Deaths'].sum(), df['Recovered'].sum())\n",
        "    date_tot_tup_dict[date] = tup_temp\n"
      ]
    },
    {
      "cell_type": "code",
      "source": [
        "print(date_tot_tup_dict)"
      ],
      "metadata": {
        "id": "8lXxIhFeL9CV",
        "outputId": "199d74fe-cea8-4dce-81fe-0052502c47f6",
        "colab": {
          "base_uri": "https://localhost:8080/"
        }
      },
      "execution_count": 5,
      "outputs": [
        {
          "output_type": "stream",
          "name": "stdout",
          "text": [
            "{'01/22/2020': (555.0, 17.0, 28.0), '01/23/2020': (653.0, 18.0, 30.0), '01/24/2020': (941.0, 26.0, 36.0), '01/25/2020': (1438.0, 42.0, 39.0), '01/26/2020': (2118.0, 56.0, 52.0), '01/27/2020': (2927.0, 82.0, 61.0), '01/28/2020': (5578.0, 131.0, 107.0), '01/29/2020': (6165.0, 133.0, 126.0), '01/30/2020': (8235.0, 171.0, 143.0), '01/31/2020': (9925.0, 213.0, 222.0), '02/01/2020': (12038.0, 259.0, 284.0), '02/02/2020': (16787.0, 362.0, 472.0), '02/03/2020': (19881.0, 426.0, 623.0), '02/04/2020': (23892.0, 492.0, 852.0), '02/05/2020': (27636.0, 564.0, 1124.0), '02/06/2020': (30818.0, 634.0, 1487.0), '02/07/2020': (34392.0, 719.0, 2011.0), '02/08/2020': (37121.0, 806.0, 2616.0), '02/09/2020': (40151.0, 906.0, 3244.0), '02/10/2020': (42763.0, 1013.0, 3946.0), '02/11/2020': (44803.0, 1113.0, 4683.0), '02/12/2020': (45222.0, 1118.0, 5150.0), '02/13/2020': (60370.0, 1371.0, 6295.0), '02/14/2020': (66887.0, 1523.0, 8058.0), '02/15/2020': (69032.0, 1666.0, 9395.0), '02/16/2020': (71226.0, 1770.0, 10865.0), '02/17/2020': (73260.0, 1868.0, 12583.0), '02/18/2020': (75138.0, 2007.0, 14352.0), '02/19/2020': (75641.0, 2122.0, 16121.0), '02/20/2020': (76199.0, 2247.0, 18177.0), '02/21/2020': (76843.0, 2251.0, 18890.0), '02/22/2020': (78599.0, 2458.0, 22886.0), '02/23/2020': (78985.0, 2469.0, 23394.0), '02/24/2020': (79570.0, 2629.0, 25227.0), '02/25/2020': (80415.0, 2708.0, 27905.0), '02/26/2020': (81397.0, 2770.0, 30384.0), '02/27/2020': (82756.0, 2814.0, 33277.0), '02/28/2020': (84124.0, 2872.0, 36711.0), '02/29/2020': (86013.0, 2941.0, 39782.0), '03/01/2020': (88371.0, 2996.0, 42716.0), '03/02/2020': (90309.0, 3085.0, 45602.0), '03/03/2020': (92844.0, 3160.0, 48229.0), '03/04/2020': (95124.0, 3254.0, 51171.0), '03/05/2020': (97886.0, 3348.0, 53797.0), '03/06/2020': (101800.0, 3460.0, 55866.0), '03/07/2020': (105836.0, 3558.0, 58359.0), '03/08/2020': (109835.0, 3803.0, 60695.0), '03/09/2020': (113582.0, 3996.0, 62512.0), '03/10/2020': (118582.0, 4262.0, 64404.0), '03/11/2020': (125865.0, 4615.0, 67003.0), '03/12/2020': (128343.0, 4720.0, 68324.0), '03/13/2020': (145193.0, 5404.0, 70251.0), '03/14/2020': (156099.0, 5819.0, 72624.0), '03/15/2020': (167447.0, 6440.0, 76034.0), '03/16/2020': (181546.0, 7126.0, 78088.0), '03/17/2020': (197168.0, 7905.0, 80840.0), '03/18/2020': (214915.0, 8733.0, 83313.0), '03/19/2020': (242713.0, 9867.0, 84962.0), '03/20/2020': (272167.0, 11299.0, 87403.0), '03/21/2020': (304528.0, 12973.0, 91676.0), '03/22/2020': (337020.0, 14623.0, 97243.0), '03/23/2020': (378287.0, 16497.0, 100958.0), '03/24/2020': (417966.0, 18615.0, 107705.0), '03/25/2020': (467594.0, 21181.0, 113770.0), '03/26/2020': (529591.0, 23970.0, 122150.0), '03/27/2020': (593291.0, 27198.0, 130915.0), '03/28/2020': (660706.0, 30652.0, 139415.0), '03/29/2020': (720117.0, 33925.0, 149082.0), '03/30/2020': (782365.0, 37582.0, 164566.0), '03/31/2020': (857487.0, 42107.0, 178034.0)}\n"
          ]
        }
      ]
    },
    {
      "cell_type": "code",
      "execution_count": 6,
      "metadata": {
        "id": "acpnS2-lWsIc",
        "outputId": "8e731d73-9410-4240-c700-2c1a5f189bc2",
        "colab": {
          "base_uri": "https://localhost:8080/"
        }
      },
      "outputs": [
        {
          "output_type": "stream",
          "name": "stdout",
          "text": [
            "            Confirmed  Deaths  Recovered\n",
            "01/22/2020      555.0    17.0       28.0\n",
            "01/23/2020      653.0    18.0       30.0\n",
            "01/24/2020      941.0    26.0       36.0\n",
            "01/25/2020     1438.0    42.0       39.0\n",
            "01/26/2020     2118.0    56.0       52.0\n"
          ]
        }
      ],
      "source": [
        "df_date_tots = pd.DataFrame(date_tot_tup_dict)\n",
        "df_date_tots = df_date_tots.transpose()\n",
        "df_date_tots.columns = ['Confirmed', 'Deaths', 'Recovered']\n",
        "print(df_date_tots.head())"
      ]
    },
    {
      "cell_type": "markdown",
      "metadata": {
        "id": "GDXwg90qWsId"
      },
      "source": [
        "### 3. Create a new column in the dataframe called **“closed cases”**"
      ]
    },
    {
      "cell_type": "code",
      "execution_count": 7,
      "metadata": {
        "id": "h5rCWLJkWsId"
      },
      "outputs": [],
      "source": [
        "df_date_tots['Closed Cases'] = df_date_tots['Deaths'] + df_date_tots['Recovered']"
      ]
    },
    {
      "cell_type": "markdown",
      "metadata": {
        "id": "sVLYaGHJWsIe"
      },
      "source": [
        "### 4. Create a new column in the dataframe called “active cases”"
      ]
    },
    {
      "cell_type": "code",
      "execution_count": 8,
      "metadata": {
        "id": "GqtKS_pwWsIe"
      },
      "outputs": [],
      "source": [
        "df_date_tots['Active Cases'] = df_date_tots['Confirmed'] - df_date_tots['Closed Cases']"
      ]
    },
    {
      "cell_type": "markdown",
      "metadata": {
        "id": "Wqbh5VreWsIc"
      },
      "source": [
        "### 5. **Plot** the total number of cases per day over time and summarize findings"
      ]
    },
    {
      "cell_type": "code",
      "execution_count": 9,
      "metadata": {
        "id": "BoFQ2r9HWsIc",
        "outputId": "48a26685-9999-4915-8d2b-8f3e04085636",
        "colab": {
          "base_uri": "https://localhost:8080/",
          "height": 558
        }
      },
      "outputs": [
        {
          "output_type": "display_data",
          "data": {
            "text/plain": [
              "<Figure size 1500x500 with 1 Axes>"
            ],
            "image/png": "[encoded data removed]"
          },
          "metadata": {}
        }
      ],
      "source": [
        "plt.figure(figsize = [15,5])\n",
        "plt.plot(df_date_tots['Confirmed'], label = \"Confirmed Cases\")\n",
        "plt.plot(df_date_tots['Deaths'], label    = \"Deaths\")\n",
        "plt.plot(df_date_tots['Recovered'], label = \"Recovered Cases\")\n",
        "\n",
        "plt.legend()\n",
        "plt.xlabel(\"Day\")\n",
        "plt.ylabel(\"Count\")\n",
        "plt.xticks(rotation = 90);\n",
        "start_date = str(date_lst[0]);\n",
        "fin_date   = str(date_lst[len(date_lst) -1])\n",
        "plt.title(\"Total Cases, Deaths, and Recoveries : \" + start_date + \" - \" + fin_date);\n"
      ]
    },
    {
      "cell_type": "markdown",
      "metadata": {
        "id": "sy0VdsvfWsId"
      },
      "source": [
        "All of the three curves seem to be exponential (start of logistic curve). The confirmed cases was obviously higher than the deaths and recovered cases. The rate of the the recovered cases seems to be higher than that of the death curve."
      ]
    },
    {
      "cell_type": "markdown",
      "metadata": {
        "id": "ftsCGpUzWsIe"
      },
      "source": [
        "### 6. Create one **plot** showing the trend of number of active cases and closed cases"
      ]
    },
    {
      "cell_type": "code",
      "execution_count": null,
      "metadata": {
        "id": "WOp3Ylq0WsIe"
      },
      "outputs": [],
      "source": [
        "plt.figure(figsize = [15,5])\n",
        "plt.plot(df_date_tots['Active Cases'], label = \"Active Cases\")\n",
        "plt.plot(df_date_tots['Closed Cases'], label = \"Closed Cases\")\n",
        "\n",
        "plt.legend();\n",
        "plt.xlabel(\"Day\")\n",
        "plt.ylabel(\"Count\")\n",
        "plt.xticks(rotation = 90)\n",
        "start_date = str(date_lst[0])\n",
        "fin_date   = str(date_lst[len(date_lst) -1])\n",
        "plt.title(\"Active Cases vs Closed Cases COVID-19 : \" + start_date + \" - \" + fin_date);"
      ]
    },
    {
      "cell_type": "markdown",
      "metadata": {
        "id": "OYWfScVuWsIf"
      },
      "source": [
        "The number of active cases is higher than the number of closed cases as of yet."
      ]
    },
    {
      "cell_type": "markdown",
      "metadata": {
        "id": "hsoLvyhhWsIf"
      },
      "source": [
        "### 7. Growth Factor"
      ]
    },
    {
      "cell_type": "markdown",
      "source": [
        "**Growth factor** is the factor by which a quantity multiplies itself over time. In the below cell, we calculate the GF of the confirmed, recovered and death cases.\n"
      ],
      "metadata": {
        "id": "tLb4At8ONMnZ"
      }
    },
    {
      "cell_type": "code",
      "execution_count": null,
      "metadata": {
        "id": "fClW0mUsWsIf"
      },
      "outputs": [],
      "source": [
        "growth_len_lst = len(date_lst) - 1\n",
        "confirmed_lst = df_date_tots[\"Confirmed\"]\n",
        "death_lst = df_date_tots[\"Deaths\"]\n",
        "recovered_lst = df_date_tots[\"Recovered\"]\n",
        "confGF_lst = []\n",
        "deathsGF_lst = []\n",
        "recovGF_lst = []\n",
        "for i in range(growth_len_lst):\n",
        "    confirmedGF = confirmed_lst[i+1] / confirmed_lst[i]\n",
        "    confGF_lst.append(confirmedGF)\n",
        "    deathGF = death_lst[i+1] / death_lst[i]\n",
        "    deathsGF_lst.append(deathGF)\n",
        "    recoveredGF = recovered_lst[i+1] / recovered_lst[i]\n",
        "    recovGF_lst.append(recoveredGF);\n"
      ]
    },
    {
      "cell_type": "markdown",
      "source": [
        "### 8. Create one plot showing the Growth factor of confirmed, recovered and death cases wrt days"
      ],
      "metadata": {
        "id": "DGHVC9eVN2in"
      }
    },
    {
      "cell_type": "code",
      "execution_count": null,
      "metadata": {
        "id": "oVvAED3CWsIf"
      },
      "outputs": [],
      "source": [
        "plt.figure(figsize = [15,5])\n",
        "plt.plot(confGF_lst, label = \"Growth Factor of Confirmed Cases\")\n",
        "plt.plot(deathsGF_lst, label = \"Growth Factor of Deaths\")\n",
        "plt.plot(recovGF_lst, label = \"Growth Factor of Recovered Cases\")\n",
        "x = []\n",
        "for i in range((growth_len_lst)):\n",
        "    x.append(1)\n",
        "plt.plot(x, label = \"Growth Factor = 1.0\")\n",
        "\n",
        "#plt.grid()\n",
        "plt.legend()\n",
        "plt.xlabel(\"Day\")\n",
        "plt.ylabel(\"Growth Ratio\")\n",
        "plt.ylim(.5,2)\n",
        "plt.xticks(rotation = 90)\n",
        "start_date = str(date_lst[0])\n",
        "fin_date   = str(date_lst[len(date_lst) -1])\n",
        "plt.title(\"Growth Factors of Confirmed, Death, and Recovered Cases COVID-19 : \" +start_date +\" - \" +fin_date)"
      ]
    },
    {
      "cell_type": "markdown",
      "metadata": {
        "id": "gaB_7h4eWsIf"
      },
      "source": [
        "# **Part 2 - Prediction Using Linear Regression**"
      ]
    },
    {
      "cell_type": "markdown",
      "metadata": {
        "id": "i7cIKMQBWsIg"
      },
      "source": [
        "#### To make our data to be compatible with *sklearn* format, create a new column called “Days since” which tracks the number of days since the initial date."
      ]
    },
    {
      "cell_type": "code",
      "execution_count": null,
      "metadata": {
        "id": "FTU1FrjtWsIg"
      },
      "outputs": [],
      "source": [
        "days_since_lst = []\n",
        "for i in range(len(date_lst)):\n",
        "    days_since_lst.append(i)\n",
        "df_date_tots[\"Days Since:\"] = days_since_lst\n",
        "df_date_tots = df_date_tots[[\"Days Since:\", \"Confirmed\", \"Deaths\", \"Recovered\", \"Active Cases\", \"Closed Cases\"]]\n"
      ]
    },
    {
      "cell_type": "markdown",
      "metadata": {
        "id": "tOSUms52WsIg"
      },
      "source": [
        "### 8. Take the earliest 85% of the dates as **train** and the rest as **test**"
      ]
    },
    {
      "cell_type": "code",
      "execution_count": null,
      "metadata": {
        "id": "knA90j_DWsIg"
      },
      "outputs": [],
      "source": [
        "from sklearn.model_selection import train_test_split, RandomizedSearchCV\n",
        "from sklearn.preprocessing import StandardScaler\n",
        "\n",
        "X = np.array(df_date_tots[\"Days Since:\"]).reshape(-1,1)\n",
        "y = np.array(df_date_tots[\"Confirmed\"])\n"
      ]
    },
    {
      "cell_type": "code",
      "execution_count": null,
      "metadata": {
        "id": "mxqmPlfdWsIg"
      },
      "outputs": [],
      "source": [
        "X_train, X_test, y_train, y_test = train_test_split(X,\n",
        "                                                    y,\n",
        "                                                    test_size = 0.15,\n",
        "                                                    shuffle = False)"
      ]
    },
    {
      "cell_type": "markdown",
      "metadata": {
        "id": "0w2OC1hFWsIg"
      },
      "source": [
        "### 9. We can try different regression and regularizations we have seen before"
      ]
    },
    {
      "cell_type": "markdown",
      "metadata": {
        "id": "ruIA7fzNWsIg"
      },
      "source": [
        "#### 9.1 Linear Regression"
      ]
    },
    {
      "cell_type": "code",
      "execution_count": null,
      "metadata": {
        "id": "i7olNxZLWsIg"
      },
      "outputs": [],
      "source": [
        "lin_model = LinearRegression(fit_intercept = False)\n",
        "lin_model.fit(X_train, y_train)\n",
        "test_lin_pred = lin_model.predict(X_test)\n",
        "lin_pred = lin_model.predict(X)"
      ]
    },
    {
      "cell_type": "code",
      "execution_count": null,
      "metadata": {
        "id": "XjnoSh0EWsIg"
      },
      "outputs": [],
      "source": [
        "plt.figure(figsize = [15,5])\n",
        "# plotting the actual values for the future days\n",
        "plt.plot(X_test,\n",
        "         y_test,\n",
        "         label = \"Actual Confirmed Cases\")\n",
        "# plotting the predicited values for the future days\n",
        "plt.plot(X_test,\n",
        "         test_lin_pred,\n",
        "         label = \"Lin Regression predicted Confirmed Cases\")\n",
        "plt.grid();\n",
        "plt.legend();\n",
        "plt.xlabel(\"Day\", size = 25)\n",
        "plt.ylabel(\"Count\", size = 25)\n",
        "plt.xticks(rotation = 90, size = 15)\n",
        "plt.show()\n",
        "\n",
        "print('MAE:', mean_absolute_error (test_lin_pred, X_test))\n",
        "print('MSE:', mean_squared_error  (test_lin_pred, X_test))"
      ]
    },
    {
      "cell_type": "markdown",
      "metadata": {
        "id": "8QNzShYEWsIh"
      },
      "source": [
        "#### Polynomial Regression"
      ]
    },
    {
      "cell_type": "code",
      "execution_count": null,
      "metadata": {
        "id": "Zo63r_bfWsIh"
      },
      "outputs": [],
      "source": [
        "poly = PolynomialFeatures(degree=5)\n",
        "poly_X_train = poly.fit_transform(X_train)\n",
        "poly_X_test  = poly.fit_transform(X_test)\n",
        "poly_X = poly.fit_transform(X)"
      ]
    },
    {
      "cell_type": "code",
      "execution_count": null,
      "metadata": {
        "id": "DD_FE4jzWsIh"
      },
      "outputs": [],
      "source": [
        "linear_model = LinearRegression(fit_intercept=False)\n",
        "linear_model.fit(poly_X_train, y_train)\n",
        "test_poly_pred = linear_model.predict(poly_X_test)\n",
        "poly_pred = linear_model.predict(poly_X)\n"
      ]
    },
    {
      "cell_type": "code",
      "execution_count": null,
      "metadata": {
        "id": "4us2pO6fWsIh"
      },
      "outputs": [],
      "source": [
        "plt.figure(figsize = [15,5])\n",
        "\n",
        "# plotting the actual values for the future days\n",
        "plt.plot(X_test,\n",
        "         y_test,\n",
        "         label = \"Actual Confirmed Cases\")\n",
        "\n",
        "# plotting the predicited values for the future days\n",
        "plt.plot(X_test,\n",
        "         test_poly_pred,\n",
        "         label = \"Polynomial Regression Confirmed Cases\")\n",
        "plt.grid();\n",
        "plt.legend();\n",
        "plt.xlabel(\"Day\", size = 25)\n",
        "plt.ylabel(\"Count\", size = 25)\n",
        "plt.xticks(rotation = 90, size = 15);\n",
        "plt.show()\n",
        "\n",
        "print('MAE:', mean_absolute_error(test_poly_pred, y_test))\n",
        "print('MSE:',mean_squared_error(test_poly_pred, y_test))"
      ]
    },
    {
      "cell_type": "code",
      "execution_count": null,
      "metadata": {
        "id": "37HI0h5aWsIh"
      },
      "outputs": [],
      "source": [
        "plt.figure(figsize=(15, 5))\n",
        "plt.plot(X,\n",
        "         y,\n",
        "         label = 'Actual Future Cases')\n",
        "\n",
        "plt.plot(X,\n",
        "         poly_pred,\n",
        "         label = 'Polynomial Regression Prediction of Future Cases',\n",
        "         linestyle = \"dashed\")\n",
        "\n",
        "plt.plot(X_train,\n",
        "         y_train,\n",
        "         label = 'Training Cases')\n",
        "\n",
        "plt.xlabel('Days Since', size = 30)\n",
        "plt.ylabel('# of Cases', size = 30)\n",
        "plt.legend()\n",
        "plt.xticks(size=20)\n",
        "plt.yticks(size=20)\n",
        "plt.show()"
      ]
    },
    {
      "cell_type": "markdown",
      "metadata": {
        "id": "N88Q07dOWsIh"
      },
      "source": [
        "### 9.2 Ridge Regression"
      ]
    },
    {
      "cell_type": "code",
      "execution_count": null,
      "metadata": {
        "id": "teIVVvx2WsIi"
      },
      "outputs": [],
      "source": [
        "tol      = [1e-4, 1e-3, 1e-2]\n",
        "alpha_1  = [1e-7, 1e-6, 1e-5, 1e-4]\n",
        "alpha_2  = [1e-7, 1e-6, 1e-5, 1e-4]\n",
        "lambda_1 = [1e-7, 1e-6, 1e-5, 1e-4]\n",
        "lambda_2 = [1e-7, 1e-6, 1e-5, 1e-4]\n",
        "\n",
        "bayesian_grid = {'tol': tol,\n",
        "                 'alpha_1': alpha_1,\n",
        "                 'alpha_2' : alpha_2,\n",
        "                 'lambda_1': lambda_1,\n",
        "                 'lambda_2' : lambda_2 }\n",
        "\n",
        "bayesian = BayesianRidge(fit_intercept=False)\n",
        "bayesian_search = RandomizedSearchCV(bayesian,\n",
        "                                     bayesian_grid,\n",
        "                                     scoring='neg_mean_squared_error',\n",
        "                                     cv=3,\n",
        "                                     return_train_score=True,\n",
        "                                     n_jobs=-1,\n",
        "                                     n_iter=40,\n",
        "                                     verbose=1)\n",
        "\n",
        "bayesian_search.fit(X_train, y_train)\n",
        "\n",
        "print(bayesian_search.best_params_)"
      ]
    },
    {
      "cell_type": "code",
      "execution_count": null,
      "metadata": {
        "id": "xHAtU8uoWsIi"
      },
      "outputs": [],
      "source": [
        "y_test_ridge_pred = bayesian_search.predict(X_test);\n",
        "y_ridge_pred = bayesian_search.predict(X);"
      ]
    },
    {
      "cell_type": "code",
      "execution_count": null,
      "metadata": {
        "id": "DorAwFflWsIi"
      },
      "outputs": [],
      "source": [
        "plt.figure(figsize = [15,5])\n",
        "\n",
        "# plotting the actual values for the future days\n",
        "plt.plot(X_test,\n",
        "         y_test,\n",
        "         label = \"Actual Confirmed Cases\")\n",
        "\n",
        "# plotting the predicited values for the future days\n",
        "plt.plot(X_test,\n",
        "         y_test_ridge_pred,\n",
        "         label = \"Ridge predicted Confirmed Cases\")\n",
        "plt.grid();\n",
        "plt.legend();\n",
        "plt.xlabel(\"Day\", size = 25)\n",
        "plt.ylabel(\"Count\", size = 25)\n",
        "plt.xticks(rotation = 90, size = 15);\n",
        "plt.show()\n",
        "\n",
        "print('MAE:', mean_absolute_error (y_test_ridge_pred, X_test))\n",
        "print('MSE:', mean_squared_error  (y_test_ridge_pred, X_test))"
      ]
    },
    {
      "cell_type": "code",
      "execution_count": null,
      "metadata": {
        "id": "4Ecv5T1tWsIi"
      },
      "outputs": [],
      "source": [
        "plt.figure(figsize=(15, 5))\n",
        "plt.plot(X,\n",
        "         y,\n",
        "         label = 'Actual Future Cases')\n",
        "plt.plot(X,\n",
        "         y_ridge_pred,\n",
        "         label = 'Ridge Prediction of Future Cases',\n",
        "         linestyle = \"dashed\")\n",
        "plt.plot(X_train,\n",
        "         y_train,\n",
        "         label = 'Training Cases')\n",
        "\n",
        "#plt.title('# of Coronavirus Cases Over Time', size=30)\n",
        "plt.xlabel('Days Since', size = 30)\n",
        "plt.ylabel('# of Cases', size = 30)\n",
        "plt.legend()\n",
        "plt.xticks(size=20)\n",
        "plt.yticks(size=20)\n",
        "plt.show()"
      ]
    },
    {
      "cell_type": "markdown",
      "metadata": {
        "id": "I-B8ug8NWsIi"
      },
      "source": [
        "#### Polynomial Ridge Regression"
      ]
    },
    {
      "cell_type": "code",
      "execution_count": null,
      "metadata": {
        "id": "4Qy2U6_bWsIi"
      },
      "outputs": [],
      "source": [
        "bayesian_search_poly = RandomizedSearchCV(bayesian,\n",
        "                                     bayesian_grid,\n",
        "                                     scoring='neg_mean_squared_error',\n",
        "                                     cv=3,\n",
        "                                     return_train_score=True,\n",
        "                                     n_jobs=-1,\n",
        "                                     n_iter=40,\n",
        "                                     verbose=1)\n"
      ]
    },
    {
      "cell_type": "code",
      "execution_count": null,
      "metadata": {
        "id": "ihb19TUsWsIj"
      },
      "outputs": [],
      "source": [
        "bayesian_search_poly.fit(poly_X_train, y_train);\n",
        "print(bayesian_search_poly.best_params_)"
      ]
    },
    {
      "cell_type": "code",
      "execution_count": null,
      "metadata": {
        "id": "A-_3BtX3WsIj"
      },
      "outputs": [],
      "source": [
        "bayesian_poly_confirmed = bayesian_search_poly.best_estimator_\n",
        "test_poly_bayesian_pred = bayesian_poly_confirmed.predict(poly_X_test)\n",
        "bayesian_poly_pred = bayesian_poly_confirmed.predict(poly_X)"
      ]
    },
    {
      "cell_type": "code",
      "execution_count": null,
      "metadata": {
        "id": "a4DSJoY4WsIj"
      },
      "outputs": [],
      "source": [
        "plt.figure(figsize = [15,5])\n",
        "\n",
        "# plotting the actual values for the future days\n",
        "plt.plot(X_test,\n",
        "         y_test,\n",
        "         label = \"Actual Confirmed Cases\")\n",
        "\n",
        "# plotting the predicited values for the future days\n",
        "plt.plot(X_test,\n",
        "         test_poly_bayesian_pred,\n",
        "         label = \"Ridge Polynomial predicted Confirmed Cases\")\n",
        "plt.grid();\n",
        "plt.legend();\n",
        "plt.xlabel(\"Day\", size = 25)\n",
        "plt.ylabel(\"Count\", size = 25)\n",
        "plt.xticks(rotation = 90, size = 15)\n",
        "plt.show()\n",
        "\n",
        "print ('MAE:', mean_absolute_error(test_poly_bayesian_pred, y_test))\n",
        "print ('MSE:', mean_squared_error (test_poly_bayesian_pred, y_test))"
      ]
    },
    {
      "cell_type": "code",
      "execution_count": null,
      "metadata": {
        "id": "8x_5sBI_WsIj"
      },
      "outputs": [],
      "source": [
        "plt.figure(figsize=(15, 5))\n",
        "plt.plot(X,\n",
        "         y,\n",
        "         label = 'Actual Future Cases')\n",
        "plt.plot(X,\n",
        "         bayesian_poly_pred,\n",
        "         label = 'Ridge Polynomial Prediction of Future Cases',\n",
        "         linestyle = \"dashed\")\n",
        "plt.plot(X_train,\n",
        "         y_train,\n",
        "         label = 'Training Cases')\n",
        "\n",
        "#plt.title('# of Coronavirus Cases Over Time', size=30)\n",
        "plt.xlabel('Days Since', size = 30)\n",
        "plt.ylabel('# of Cases', size = 30)\n",
        "#plt.grid()\n",
        "plt.legend()\n",
        "plt.xticks(size=20)\n",
        "plt.yticks(size=20)\n",
        "plt.show()"
      ]
    },
    {
      "cell_type": "code",
      "execution_count": null,
      "metadata": {
        "id": "GQozj8naWsIj"
      },
      "outputs": [],
      "source": [
        "print(\"Polynomial Regression \")\n",
        "print('\\tMAE:', mean_absolute_error(test_poly_pred, y_test))\n",
        "print('\\tMSE:',mean_squared_error(test_poly_pred, y_test))\n",
        "\n",
        "print(\"\\nRidge Polynomial Regression \")\n",
        "print ('\\tMAE:', mean_absolute_error(test_poly_bayesian_pred, y_test))\n",
        "print ('\\tMSE:', mean_squared_error (test_poly_bayesian_pred, y_test))"
      ]
    },
    {
      "cell_type": "markdown",
      "metadata": {
        "id": "65MwCesFWsIj"
      },
      "source": [
        "From Mean Absolute Error and Mean Squared Error values, Ridge Polynomial Regression Model seems to be the best model."
      ]
    }
  ],
  "metadata": {
    "kernelspec": {
      "display_name": "Python 3",
      "language": "python",
      "name": "python3"
    },
    "language_info": {
      "codemirror_mode": {
        "name": "ipython",
        "version": 3
      },
      "file_extension": ".py",
      "mimetype": "text/x-python",
      "name": "python",
      "nbconvert_exporter": "python",
      "pygments_lexer": "ipython3",
      "version": "3.8.2"
    },
    "colab": {
      "provenance": [],
      "include_colab_link": true
    }
  },
  "nbformat": 4,
  "nbformat_minor": 0
}